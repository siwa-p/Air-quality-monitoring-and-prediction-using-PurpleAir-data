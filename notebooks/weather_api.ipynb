{
 "cells": [
  {
   "cell_type": "code",
   "execution_count": 1,
   "metadata": {},
   "outputs": [],
   "source": [
    "import requests\n",
    "import json\n",
    "import datetime\n",
    "import time\n",
    "import os\n",
    "import numpy as np\n",
    "FETCH_INTERVAL = 300 #seconds -- How often are we pulling data from the weather API?\n"
   ]
  },
  {
   "cell_type": "markdown",
   "metadata": {},
   "source": [
    "https://openweathermap.org/history\n",
    "\n",
    "Historical weather data"
   ]
  },
  {
   "cell_type": "code",
   "execution_count": 28,
   "metadata": {},
   "outputs": [
    {
     "name": "stdout",
     "output_type": "stream",
     "text": [
      "https://api.openweathermap.org/data/3.0/onecall/day_summary??lat=36.37&lon=-86.84&date=2020-03-04&appid=248e2ff04ca3f046ae82fedc8b5a2ed2\n"
     ]
    }
   ],
   "source": [
    "import requests\n",
    "from urllib.parse import urlencode\n",
    "\n",
    "# Set the OpenWeatherMap API endpoint and load the API key from the local environment (.env). \n",
    "openweathermap_url = \"https://api.openweathermap.org/data/3.0/onecall/day_summary?\"\n",
    "\n",
    "with open('../keys_weather.json') as fi:\n",
    "    credentials = json.load(fi)\n",
    "openweathermap_token = credentials['api_key']\n",
    "\n",
    "lat = 36.37\n",
    "long = -86.84\n",
    "\n",
    "params = {\n",
    "    \"lat\": lat,\n",
    "    \"lon\": long,\n",
    "    # \"type\": \"hour\",\n",
    "    \"date\": '2020-03-04',\n",
    "    \"appid\": openweathermap_token\n",
    "}\n",
    "\n",
    "# Encode the parameters and join them to the URL\n",
    "final_url = f\"{openweathermap_url}?{urlencode(params)}\"\n",
    "\n",
    "print(final_url)"
   ]
  },
  {
   "cell_type": "code",
   "execution_count": null,
   "metadata": {},
   "outputs": [],
   "source": [
    "https://api.openweathermap.org/data/3.0/onecall/day_summary?lat=39.099724&lon=-94.578331&date=2020-03-04&appid={API key}"
   ]
  },
  {
   "cell_type": "code",
   "execution_count": 20,
   "metadata": {},
   "outputs": [
    {
     "name": "stdout",
     "output_type": "stream",
     "text": [
      "{'cod': 401, 'message': 'Invalid API key. Please see http://openweathermap.org/faq#error401 for more info.'}\n"
     ]
    }
   ],
   "source": [
    "import requests\n",
    "\n",
    "# Set the OpenWeatherMap API endpoint and load the API key from the local environment (.env). \n",
    "openweathermap_url = \"https://history.openweathermap.org/data/2.5/history/city\"\n",
    "\n",
    "lat = 36.37261\n",
    "long = -86.840126\n",
    "\n",
    "params = {\"lat\": lat, \"lon\": long, \"type\": \"hour\", \"appid\": openweathermap_token}\n",
    "\n",
    "# Make the API request and get the JSON response\n",
    "response = requests.get(openweathermap_url, params=params)\n",
    "weather_data = response.json()\n",
    "print(weather_data)"
   ]
  },
  {
   "cell_type": "code",
   "execution_count": 10,
   "metadata": {},
   "outputs": [
    {
     "data": {
      "text/plain": [
       "{'cod': 401,\n",
       " 'message': 'Invalid API key. Please see https://openweathermap.org/faq#error401 for more info.'}"
      ]
     },
     "execution_count": 10,
     "metadata": {},
     "output_type": "execute_result"
    }
   ],
   "source": [
    "weather_data"
   ]
  },
  {
   "cell_type": "code",
   "execution_count": null,
   "metadata": {},
   "outputs": [],
   "source": [
    "\n",
    "# \"dt\" is the timestamp of the weather snapshot and the number of seconds that have elapsed since January 1, 1970, at 00:00:00 UTC.\n",
    "# So, format the timestamp as \"%Y-%m-%d %H:%M:%S\"\n",
    "timestamp = weather_data[\"dt\"]\n",
    "dt_object = datetime.datetime.fromtimestamp(timestamp) \n",
    "dt_string = dt_object.strftime(\"%Y-%m-%d %H:%M:%S\")\n",
    "\n",
    "# As usual, the 'precip' has some 'special' attributes... OpenWeatherMap does not include this attribute if there is no rain. \n",
    "# In this case, we are after a full time-series, where no zero rain is wanted to have a non-null field.\n",
    "# So, default to 0.0.\n",
    "precip = 0.0\n",
    "if \"rain\" in weather_data:\n",
    "    precip = weather_data[\"rain\"][\"1h\"]\n",
    "\n",
    "# Format the weather data as a JSON object. \n",
    "# This is where we are cherry-picking the data we are interested in. \n",
    "# This pre-defines the starting schema used in Tinybird. May be better to cast a wider net and pare down what isn't \n",
    "# wanted later in the Pipes ;) \n",
    "data = {\n",
    "    \"timestamp\": dt_string,\n",
    "    \"site_name\": \"Nashville\",\n",
    "    \"temp_f\": weather_data[\"main\"][\"temp\"],\n",
    "    \"precip\": precip,\n",
    "    \"humidity\": weather_data[\"main\"][\"humidity\"],\n",
    "    \"pressure\": weather_data[\"main\"][\"pressure\"],\n",
    "    \"wind_speed\": weather_data[\"wind\"][\"speed\"],\n",
    "    \"wind_dir\": weather_data[\"wind\"][\"deg\"],\n",
    "    \"clouds\": weather_data[\"clouds\"][\"all\"],\n",
    "    \"description\": weather_data[\"weather\"][0][\"description\"]\n",
    "}"
   ]
  }
 ],
 "metadata": {
  "kernelspec": {
   "display_name": "py38_msdso",
   "language": "python",
   "name": "python3"
  },
  "language_info": {
   "codemirror_mode": {
    "name": "ipython",
    "version": 3
   },
   "file_extension": ".py",
   "mimetype": "text/x-python",
   "name": "python",
   "nbconvert_exporter": "python",
   "pygments_lexer": "ipython3",
   "version": "3.8.18"
  }
 },
 "nbformat": 4,
 "nbformat_minor": 2
}
