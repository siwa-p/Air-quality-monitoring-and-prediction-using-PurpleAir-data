{
  "cells": [
    {
      "cell_type": "code",
      "execution_count": null,
      "metadata": {
        "id": "_zyVAXfbnz4e"
      },
      "outputs": [],
      "source": [
        "import pandas as pd\n",
        "import numpy as np\n",
        "import sqlite3\n"
      ]
    },
    {
      "cell_type": "code",
      "execution_count": null,
      "metadata": {
        "id": "yvyYuPQdnz4g"
      },
      "outputs": [],
      "source": [
        "# query = \"\"\"\n",
        "# SELECT\n",
        "#     s.sensor_index,\n",
        "#     s.name,\n",
        "#     s.latitude,\n",
        "#     s.longitude,\n",
        "#     d.time_stamp,\n",
        "#     d.humidity_a,\n",
        "#     d.temperature_a,\n",
        "#     d.pressure_a,\n",
        "#     d.\"pm2.5_atm_a\",\n",
        "#     d.\"pm2.5_atm_b\",\n",
        "#     d.\"pm2.5_cf_1_a\",\n",
        "#     d.\"pm2.5_cf_1_b\"\n",
        "# FROM\n",
        "#     sensor_table AS s\n",
        "# JOIN\n",
        "#     data_table AS d\n",
        "# ON\n",
        "#     s.sensor_index = d.sensor_index\n",
        "\n",
        "# \"\"\"\n",
        "\n",
        "# with sqlite3.connect('../datasets/dallas.sqlite') as db:\n",
        "#     data = pd.read_sql(query, db)"
      ]
    },
    {
      "cell_type": "code",
      "execution_count": null,
      "metadata": {
        "id": "Z21U0rVcnz4k"
      },
      "outputs": [],
      "source": [
        "# data['time_stamp'] = pd.to_datetime(data['time_stamp'])"
      ]
    },
    {
      "cell_type": "code",
      "execution_count": null,
      "metadata": {
        "id": "3HkneNZOnz4l"
      },
      "outputs": [],
      "source": [
        "# data.set_index('time_stamp', inplace=True)\n",
        "# data =  data.sort_index(ascending=True)\n"
      ]
    },
    {
      "cell_type": "code",
      "execution_count": null,
      "metadata": {
        "id": "Ff7AngOlnz4m"
      },
      "outputs": [],
      "source": [
        "# data.index = data.index.date # change index to date format"
      ]
    },
    {
      "cell_type": "code",
      "execution_count": null,
      "metadata": {
        "id": "1G5h8gZjnz4m"
      },
      "outputs": [],
      "source": [
        "# # Merging weather data from noaa to the data from a single sensor\n",
        "# weather_noaa_data = pd.read_csv('../datasets/Dallas_stations_data.csv')\n",
        "\n",
        "# weather_noaa_data_w =  weather_noaa_data[weather_noaa_data['STATION']=='USW00003971'][['STATION', 'LATITUDE', 'LONGITUDE', 'ELEVATION', 'DATE', 'AWND', 'DAPR', 'MDPR', 'PGTM', 'PRCP', 'SNOW', 'SNWD', 'TAVG','TMAX','TMIN', 'WDF2','WDF5', 'WESD', 'WESF','WSF2', 'WSF5', 'WT01', 'WT02', 'WT03', 'WT04', 'WT05', 'WT06','WT08']]\n",
        "\n",
        "# weather_noaa_data_w_n = weather_noaa_data_w[:-2] # the noaa data is for two days longer\n",
        "\n",
        "# weather_noaa_data_w_n = weather_noaa_data_w_n.fillna(0) # lot's of NAN values, which are essentially zeros"
      ]
    },
    {
      "cell_type": "code",
      "execution_count": null,
      "metadata": {
        "id": "NOCqf5TFnz4n"
      },
      "outputs": [],
      "source": [
        "# weather_noaa_data_w_n['DATE'] = pd.to_datetime(weather_noaa_data_w_n['DATE'])\n",
        "# weather_noaa_data_w_n.set_index('DATE', inplace=True) # setting index makes it easier to merge later"
      ]
    },
    {
      "cell_type": "code",
      "execution_count": null,
      "metadata": {
        "id": "bc_CBxj7nz4o"
      },
      "outputs": [],
      "source": [
        "# merged_df = pd.merge(data, weather_noaa_data_w_n, how = 'left', left_index=True, right_index=True)"
      ]
    },
    {
      "cell_type": "code",
      "execution_count": null,
      "metadata": {
        "id": "Yf1JOu8hnz4o"
      },
      "outputs": [],
      "source": [
        "# start_date = '2022-04-01'\n",
        "# end_date = '2024-03-29'\n",
        "\n",
        "# # Filter the DataFrame for rows within the specified range\n",
        "# filtered_merged_df = merged_df[(merged_df.index >= start_date) & (merged_df.index <= end_date)]\n"
      ]
    },
    {
      "cell_type": "code",
      "execution_count": null,
      "metadata": {
        "id": "QjlWCWJbnz4q"
      },
      "outputs": [],
      "source": [
        "# Reset the index and rename the index column\n",
        "# filtered_merged_df = filtered_merged_df.reset_index().rename(columns={'index': 'time_stamp'})"
      ]
    },
    {
      "cell_type": "code",
      "execution_count": null,
      "metadata": {
        "id": "q3rwWU_4nz4q"
      },
      "outputs": [],
      "source": [
        "# filtered_merged_df"
      ]
    },
    {
      "cell_type": "code",
      "execution_count": null,
      "metadata": {
        "id": "EKSaffB0nz4r"
      },
      "outputs": [],
      "source": [
        "# filtered_merged_df = filtered_merged_df[filtered_merged_df['pm2.5_atm_a']<1000]"
      ]
    },
    {
      "cell_type": "code",
      "execution_count": null,
      "metadata": {
        "id": "w3pcwiuBnz4r"
      },
      "outputs": [],
      "source": [
        "# filtered_merged_df"
      ]
    },
    {
      "cell_type": "code",
      "execution_count": null,
      "metadata": {
        "id": "U6DhwQfHnz4r"
      },
      "outputs": [],
      "source": [
        "# filtered_merged_df.to_csv('../datasets/merged_data_CNN.csv', index=False)"
      ]
    },
    {
      "cell_type": "code",
      "execution_count": null,
      "metadata": {
        "id": "CNKWCjTwnz4s"
      },
      "outputs": [],
      "source": [
        "filtered_merged_df = pd.read_csv('../datasets/merged_data_CNN.csv', index_col=False)"
      ]
    },
    {
      "cell_type": "code",
      "execution_count": null,
      "metadata": {
        "colab": {
          "base_uri": "https://localhost:8080/",
          "height": 461
        },
        "id": "GzhFyoqMnz4s",
        "outputId": "04011c4d-6c4d-4e09-d935-9d3873ee5d8a"
      },
      "outputs": [
        {
          "data": {
            "application/vnd.google.colaboratory.intrinsic+json": {
              "type": "dataframe",
              "variable_name": "filtered_merged_df"
            },
            "text/html": [
              "\n",
              "  <div id=\"df-db6ea4a3-bd75-4111-a7cf-d7b236046e06\" class=\"colab-df-container\">\n",
              "    <div>\n",
              "<style scoped>\n",
              "    .dataframe tbody tr th:only-of-type {\n",
              "        vertical-align: middle;\n",
              "    }\n",
              "\n",
              "    .dataframe tbody tr th {\n",
              "        vertical-align: top;\n",
              "    }\n",
              "\n",
              "    .dataframe thead th {\n",
              "        text-align: right;\n",
              "    }\n",
              "</style>\n",
              "<table border=\"1\" class=\"dataframe\">\n",
              "  <thead>\n",
              "    <tr style=\"text-align: right;\">\n",
              "      <th></th>\n",
              "      <th>time_stamp</th>\n",
              "      <th>sensor_index</th>\n",
              "      <th>name</th>\n",
              "      <th>latitude</th>\n",
              "      <th>longitude</th>\n",
              "      <th>humidity_a</th>\n",
              "      <th>temperature_a</th>\n",
              "      <th>pressure_a</th>\n",
              "      <th>pm2.5_atm_a</th>\n",
              "      <th>pm2.5_atm_b</th>\n",
              "      <th>...</th>\n",
              "      <th>WESF</th>\n",
              "      <th>WSF2</th>\n",
              "      <th>WSF5</th>\n",
              "      <th>WT01</th>\n",
              "      <th>WT02</th>\n",
              "      <th>WT03</th>\n",
              "      <th>WT04</th>\n",
              "      <th>WT05</th>\n",
              "      <th>WT06</th>\n",
              "      <th>WT08</th>\n",
              "    </tr>\n",
              "  </thead>\n",
              "  <tbody>\n",
              "    <tr>\n",
              "      <th>0</th>\n",
              "      <td>2022-04-01</td>\n",
              "      <td>87721</td>\n",
              "      <td>Garland</td>\n",
              "      <td>32.963880</td>\n",
              "      <td>-96.634650</td>\n",
              "      <td>31.406</td>\n",
              "      <td>66.424</td>\n",
              "      <td>996.667</td>\n",
              "      <td>4.720</td>\n",
              "      <td>3.450</td>\n",
              "      <td>...</td>\n",
              "      <td>0.0</td>\n",
              "      <td>11.2</td>\n",
              "      <td>13.9</td>\n",
              "      <td>0.0</td>\n",
              "      <td>0.0</td>\n",
              "      <td>0.0</td>\n",
              "      <td>0.0</td>\n",
              "      <td>0.0</td>\n",
              "      <td>0.0</td>\n",
              "      <td>0.0</td>\n",
              "    </tr>\n",
              "    <tr>\n",
              "      <th>1</th>\n",
              "      <td>2022-04-01</td>\n",
              "      <td>90785</td>\n",
              "      <td>HeathWeather</td>\n",
              "      <td>32.819980</td>\n",
              "      <td>-96.466545</td>\n",
              "      <td>39.826</td>\n",
              "      <td>61.796</td>\n",
              "      <td>998.508</td>\n",
              "      <td>3.981</td>\n",
              "      <td>3.353</td>\n",
              "      <td>...</td>\n",
              "      <td>0.0</td>\n",
              "      <td>11.2</td>\n",
              "      <td>13.9</td>\n",
              "      <td>0.0</td>\n",
              "      <td>0.0</td>\n",
              "      <td>0.0</td>\n",
              "      <td>0.0</td>\n",
              "      <td>0.0</td>\n",
              "      <td>0.0</td>\n",
              "      <td>0.0</td>\n",
              "    </tr>\n",
              "    <tr>\n",
              "      <th>2</th>\n",
              "      <td>2022-04-01</td>\n",
              "      <td>113708</td>\n",
              "      <td>UNT-GEO-56</td>\n",
              "      <td>33.259953</td>\n",
              "      <td>-97.257290</td>\n",
              "      <td>42.803</td>\n",
              "      <td>59.520</td>\n",
              "      <td>990.216</td>\n",
              "      <td>1.014</td>\n",
              "      <td>1.565</td>\n",
              "      <td>...</td>\n",
              "      <td>0.0</td>\n",
              "      <td>11.2</td>\n",
              "      <td>13.9</td>\n",
              "      <td>0.0</td>\n",
              "      <td>0.0</td>\n",
              "      <td>0.0</td>\n",
              "      <td>0.0</td>\n",
              "      <td>0.0</td>\n",
              "      <td>0.0</td>\n",
              "      <td>0.0</td>\n",
              "    </tr>\n",
              "    <tr>\n",
              "      <th>3</th>\n",
              "      <td>2022-04-01</td>\n",
              "      <td>127067</td>\n",
              "      <td>UNT-GEO-39</td>\n",
              "      <td>33.149710</td>\n",
              "      <td>-97.126010</td>\n",
              "      <td>38.254</td>\n",
              "      <td>62.729</td>\n",
              "      <td>995.100</td>\n",
              "      <td>0.373</td>\n",
              "      <td>0.606</td>\n",
              "      <td>...</td>\n",
              "      <td>0.0</td>\n",
              "      <td>11.2</td>\n",
              "      <td>13.9</td>\n",
              "      <td>0.0</td>\n",
              "      <td>0.0</td>\n",
              "      <td>0.0</td>\n",
              "      <td>0.0</td>\n",
              "      <td>0.0</td>\n",
              "      <td>0.0</td>\n",
              "      <td>0.0</td>\n",
              "    </tr>\n",
              "    <tr>\n",
              "      <th>4</th>\n",
              "      <td>2022-04-01</td>\n",
              "      <td>59903</td>\n",
              "      <td>UNT-GEO-32</td>\n",
              "      <td>33.112953</td>\n",
              "      <td>-97.121280</td>\n",
              "      <td>33.125</td>\n",
              "      <td>66.057</td>\n",
              "      <td>994.619</td>\n",
              "      <td>3.595</td>\n",
              "      <td>4.456</td>\n",
              "      <td>...</td>\n",
              "      <td>0.0</td>\n",
              "      <td>11.2</td>\n",
              "      <td>13.9</td>\n",
              "      <td>0.0</td>\n",
              "      <td>0.0</td>\n",
              "      <td>0.0</td>\n",
              "      <td>0.0</td>\n",
              "      <td>0.0</td>\n",
              "      <td>0.0</td>\n",
              "      <td>0.0</td>\n",
              "    </tr>\n",
              "    <tr>\n",
              "      <th>...</th>\n",
              "      <td>...</td>\n",
              "      <td>...</td>\n",
              "      <td>...</td>\n",
              "      <td>...</td>\n",
              "      <td>...</td>\n",
              "      <td>...</td>\n",
              "      <td>...</td>\n",
              "      <td>...</td>\n",
              "      <td>...</td>\n",
              "      <td>...</td>\n",
              "      <td>...</td>\n",
              "      <td>...</td>\n",
              "      <td>...</td>\n",
              "      <td>...</td>\n",
              "      <td>...</td>\n",
              "      <td>...</td>\n",
              "      <td>...</td>\n",
              "      <td>...</td>\n",
              "      <td>...</td>\n",
              "      <td>...</td>\n",
              "      <td>...</td>\n",
              "    </tr>\n",
              "    <tr>\n",
              "      <th>39792</th>\n",
              "      <td>2024-03-29</td>\n",
              "      <td>113969</td>\n",
              "      <td>UNT-GEO-58</td>\n",
              "      <td>33.114075</td>\n",
              "      <td>-97.365974</td>\n",
              "      <td>75.111</td>\n",
              "      <td>68.013</td>\n",
              "      <td>988.733</td>\n",
              "      <td>0.845</td>\n",
              "      <td>3298.304</td>\n",
              "      <td>...</td>\n",
              "      <td>0.0</td>\n",
              "      <td>13.9</td>\n",
              "      <td>19.2</td>\n",
              "      <td>0.0</td>\n",
              "      <td>0.0</td>\n",
              "      <td>0.0</td>\n",
              "      <td>0.0</td>\n",
              "      <td>0.0</td>\n",
              "      <td>0.0</td>\n",
              "      <td>0.0</td>\n",
              "    </tr>\n",
              "    <tr>\n",
              "      <th>39793</th>\n",
              "      <td>2024-03-29</td>\n",
              "      <td>99585</td>\n",
              "      <td>Aldersyde</td>\n",
              "      <td>32.921955</td>\n",
              "      <td>-97.305560</td>\n",
              "      <td>72.486</td>\n",
              "      <td>73.772</td>\n",
              "      <td>989.039</td>\n",
              "      <td>2.805</td>\n",
              "      <td>4.284</td>\n",
              "      <td>...</td>\n",
              "      <td>0.0</td>\n",
              "      <td>13.9</td>\n",
              "      <td>19.2</td>\n",
              "      <td>0.0</td>\n",
              "      <td>0.0</td>\n",
              "      <td>0.0</td>\n",
              "      <td>0.0</td>\n",
              "      <td>0.0</td>\n",
              "      <td>0.0</td>\n",
              "      <td>0.0</td>\n",
              "    </tr>\n",
              "    <tr>\n",
              "      <th>39794</th>\n",
              "      <td>2024-03-29</td>\n",
              "      <td>114119</td>\n",
              "      <td>UNT-GEO-44</td>\n",
              "      <td>33.238647</td>\n",
              "      <td>-97.109695</td>\n",
              "      <td>46.908</td>\n",
              "      <td>72.577</td>\n",
              "      <td>992.503</td>\n",
              "      <td>0.796</td>\n",
              "      <td>1.034</td>\n",
              "      <td>...</td>\n",
              "      <td>0.0</td>\n",
              "      <td>13.9</td>\n",
              "      <td>19.2</td>\n",
              "      <td>0.0</td>\n",
              "      <td>0.0</td>\n",
              "      <td>0.0</td>\n",
              "      <td>0.0</td>\n",
              "      <td>0.0</td>\n",
              "      <td>0.0</td>\n",
              "      <td>0.0</td>\n",
              "    </tr>\n",
              "    <tr>\n",
              "      <th>39795</th>\n",
              "      <td>2024-03-29</td>\n",
              "      <td>144032</td>\n",
              "      <td>LOCHWOOD</td>\n",
              "      <td>32.861404</td>\n",
              "      <td>-96.687240</td>\n",
              "      <td>49.159</td>\n",
              "      <td>72.571</td>\n",
              "      <td>996.867</td>\n",
              "      <td>5.734</td>\n",
              "      <td>5.654</td>\n",
              "      <td>...</td>\n",
              "      <td>0.0</td>\n",
              "      <td>13.9</td>\n",
              "      <td>19.2</td>\n",
              "      <td>0.0</td>\n",
              "      <td>0.0</td>\n",
              "      <td>0.0</td>\n",
              "      <td>0.0</td>\n",
              "      <td>0.0</td>\n",
              "      <td>0.0</td>\n",
              "      <td>0.0</td>\n",
              "    </tr>\n",
              "    <tr>\n",
              "      <th>39796</th>\n",
              "      <td>2024-03-29</td>\n",
              "      <td>142154</td>\n",
              "      <td>Starwashed Dr</td>\n",
              "      <td>32.456380</td>\n",
              "      <td>-97.006840</td>\n",
              "      <td>38.746</td>\n",
              "      <td>79.286</td>\n",
              "      <td>988.089</td>\n",
              "      <td>0.937</td>\n",
              "      <td>1.552</td>\n",
              "      <td>...</td>\n",
              "      <td>0.0</td>\n",
              "      <td>13.9</td>\n",
              "      <td>19.2</td>\n",
              "      <td>0.0</td>\n",
              "      <td>0.0</td>\n",
              "      <td>0.0</td>\n",
              "      <td>0.0</td>\n",
              "      <td>0.0</td>\n",
              "      <td>0.0</td>\n",
              "      <td>0.0</td>\n",
              "    </tr>\n",
              "  </tbody>\n",
              "</table>\n",
              "<p>39797 rows × 39 columns</p>\n",
              "</div>\n",
              "    <div class=\"colab-df-buttons\">\n",
              "\n",
              "  <div class=\"colab-df-container\">\n",
              "    <button class=\"colab-df-convert\" onclick=\"convertToInteractive('df-db6ea4a3-bd75-4111-a7cf-d7b236046e06')\"\n",
              "            title=\"Convert this dataframe to an interactive table.\"\n",
              "            style=\"display:none;\">\n",
              "\n",
              "  <svg xmlns=\"http://www.w3.org/2000/svg\" height=\"24px\" viewBox=\"0 -960 960 960\">\n",
              "    <path d=\"M120-120v-720h720v720H120Zm60-500h600v-160H180v160Zm220 220h160v-160H400v160Zm0 220h160v-160H400v160ZM180-400h160v-160H180v160Zm440 0h160v-160H620v160ZM180-180h160v-160H180v160Zm440 0h160v-160H620v160Z\"/>\n",
              "  </svg>\n",
              "    </button>\n",
              "\n",
              "  <style>\n",
              "    .colab-df-container {\n",
              "      display:flex;\n",
              "      gap: 12px;\n",
              "    }\n",
              "\n",
              "    .colab-df-convert {\n",
              "      background-color: #E8F0FE;\n",
              "      border: none;\n",
              "      border-radius: 50%;\n",
              "      cursor: pointer;\n",
              "      display: none;\n",
              "      fill: #1967D2;\n",
              "      height: 32px;\n",
              "      padding: 0 0 0 0;\n",
              "      width: 32px;\n",
              "    }\n",
              "\n",
              "    .colab-df-convert:hover {\n",
              "      background-color: #E2EBFA;\n",
              "      box-shadow: 0px 1px 2px rgba(60, 64, 67, 0.3), 0px 1px 3px 1px rgba(60, 64, 67, 0.15);\n",
              "      fill: #174EA6;\n",
              "    }\n",
              "\n",
              "    .colab-df-buttons div {\n",
              "      margin-bottom: 4px;\n",
              "    }\n",
              "\n",
              "    [theme=dark] .colab-df-convert {\n",
              "      background-color: #3B4455;\n",
              "      fill: #D2E3FC;\n",
              "    }\n",
              "\n",
              "    [theme=dark] .colab-df-convert:hover {\n",
              "      background-color: #434B5C;\n",
              "      box-shadow: 0px 1px 3px 1px rgba(0, 0, 0, 0.15);\n",
              "      filter: drop-shadow(0px 1px 2px rgba(0, 0, 0, 0.3));\n",
              "      fill: #FFFFFF;\n",
              "    }\n",
              "  </style>\n",
              "\n",
              "    <script>\n",
              "      const buttonEl =\n",
              "        document.querySelector('#df-db6ea4a3-bd75-4111-a7cf-d7b236046e06 button.colab-df-convert');\n",
              "      buttonEl.style.display =\n",
              "        google.colab.kernel.accessAllowed ? 'block' : 'none';\n",
              "\n",
              "      async function convertToInteractive(key) {\n",
              "        const element = document.querySelector('#df-db6ea4a3-bd75-4111-a7cf-d7b236046e06');\n",
              "        const dataTable =\n",
              "          await google.colab.kernel.invokeFunction('convertToInteractive',\n",
              "                                                    [key], {});\n",
              "        if (!dataTable) return;\n",
              "\n",
              "        const docLinkHtml = 'Like what you see? Visit the ' +\n",
              "          '<a target=\"_blank\" href=https://colab.research.google.com/notebooks/data_table.ipynb>data table notebook</a>'\n",
              "          + ' to learn more about interactive tables.';\n",
              "        element.innerHTML = '';\n",
              "        dataTable['output_type'] = 'display_data';\n",
              "        await google.colab.output.renderOutput(dataTable, element);\n",
              "        const docLink = document.createElement('div');\n",
              "        docLink.innerHTML = docLinkHtml;\n",
              "        element.appendChild(docLink);\n",
              "      }\n",
              "    </script>\n",
              "  </div>\n",
              "\n",
              "\n",
              "<div id=\"df-221391ed-71c5-42da-a320-b6dc0a5f6787\">\n",
              "  <button class=\"colab-df-quickchart\" onclick=\"quickchart('df-221391ed-71c5-42da-a320-b6dc0a5f6787')\"\n",
              "            title=\"Suggest charts\"\n",
              "            style=\"display:none;\">\n",
              "\n",
              "<svg xmlns=\"http://www.w3.org/2000/svg\" height=\"24px\"viewBox=\"0 0 24 24\"\n",
              "     width=\"24px\">\n",
              "    <g>\n",
              "        <path d=\"M19 3H5c-1.1 0-2 .9-2 2v14c0 1.1.9 2 2 2h14c1.1 0 2-.9 2-2V5c0-1.1-.9-2-2-2zM9 17H7v-7h2v7zm4 0h-2V7h2v10zm4 0h-2v-4h2v4z\"/>\n",
              "    </g>\n",
              "</svg>\n",
              "  </button>\n",
              "\n",
              "<style>\n",
              "  .colab-df-quickchart {\n",
              "      --bg-color: #E8F0FE;\n",
              "      --fill-color: #1967D2;\n",
              "      --hover-bg-color: #E2EBFA;\n",
              "      --hover-fill-color: #174EA6;\n",
              "      --disabled-fill-color: #AAA;\n",
              "      --disabled-bg-color: #DDD;\n",
              "  }\n",
              "\n",
              "  [theme=dark] .colab-df-quickchart {\n",
              "      --bg-color: #3B4455;\n",
              "      --fill-color: #D2E3FC;\n",
              "      --hover-bg-color: #434B5C;\n",
              "      --hover-fill-color: #FFFFFF;\n",
              "      --disabled-bg-color: #3B4455;\n",
              "      --disabled-fill-color: #666;\n",
              "  }\n",
              "\n",
              "  .colab-df-quickchart {\n",
              "    background-color: var(--bg-color);\n",
              "    border: none;\n",
              "    border-radius: 50%;\n",
              "    cursor: pointer;\n",
              "    display: none;\n",
              "    fill: var(--fill-color);\n",
              "    height: 32px;\n",
              "    padding: 0;\n",
              "    width: 32px;\n",
              "  }\n",
              "\n",
              "  .colab-df-quickchart:hover {\n",
              "    background-color: var(--hover-bg-color);\n",
              "    box-shadow: 0 1px 2px rgba(60, 64, 67, 0.3), 0 1px 3px 1px rgba(60, 64, 67, 0.15);\n",
              "    fill: var(--button-hover-fill-color);\n",
              "  }\n",
              "\n",
              "  .colab-df-quickchart-complete:disabled,\n",
              "  .colab-df-quickchart-complete:disabled:hover {\n",
              "    background-color: var(--disabled-bg-color);\n",
              "    fill: var(--disabled-fill-color);\n",
              "    box-shadow: none;\n",
              "  }\n",
              "\n",
              "  .colab-df-spinner {\n",
              "    border: 2px solid var(--fill-color);\n",
              "    border-color: transparent;\n",
              "    border-bottom-color: var(--fill-color);\n",
              "    animation:\n",
              "      spin 1s steps(1) infinite;\n",
              "  }\n",
              "\n",
              "  @keyframes spin {\n",
              "    0% {\n",
              "      border-color: transparent;\n",
              "      border-bottom-color: var(--fill-color);\n",
              "      border-left-color: var(--fill-color);\n",
              "    }\n",
              "    20% {\n",
              "      border-color: transparent;\n",
              "      border-left-color: var(--fill-color);\n",
              "      border-top-color: var(--fill-color);\n",
              "    }\n",
              "    30% {\n",
              "      border-color: transparent;\n",
              "      border-left-color: var(--fill-color);\n",
              "      border-top-color: var(--fill-color);\n",
              "      border-right-color: var(--fill-color);\n",
              "    }\n",
              "    40% {\n",
              "      border-color: transparent;\n",
              "      border-right-color: var(--fill-color);\n",
              "      border-top-color: var(--fill-color);\n",
              "    }\n",
              "    60% {\n",
              "      border-color: transparent;\n",
              "      border-right-color: var(--fill-color);\n",
              "    }\n",
              "    80% {\n",
              "      border-color: transparent;\n",
              "      border-right-color: var(--fill-color);\n",
              "      border-bottom-color: var(--fill-color);\n",
              "    }\n",
              "    90% {\n",
              "      border-color: transparent;\n",
              "      border-bottom-color: var(--fill-color);\n",
              "    }\n",
              "  }\n",
              "</style>\n",
              "\n",
              "  <script>\n",
              "    async function quickchart(key) {\n",
              "      const quickchartButtonEl =\n",
              "        document.querySelector('#' + key + ' button');\n",
              "      quickchartButtonEl.disabled = true;  // To prevent multiple clicks.\n",
              "      quickchartButtonEl.classList.add('colab-df-spinner');\n",
              "      try {\n",
              "        const charts = await google.colab.kernel.invokeFunction(\n",
              "            'suggestCharts', [key], {});\n",
              "      } catch (error) {\n",
              "        console.error('Error during call to suggestCharts:', error);\n",
              "      }\n",
              "      quickchartButtonEl.classList.remove('colab-df-spinner');\n",
              "      quickchartButtonEl.classList.add('colab-df-quickchart-complete');\n",
              "    }\n",
              "    (() => {\n",
              "      let quickchartButtonEl =\n",
              "        document.querySelector('#df-221391ed-71c5-42da-a320-b6dc0a5f6787 button');\n",
              "      quickchartButtonEl.style.display =\n",
              "        google.colab.kernel.accessAllowed ? 'block' : 'none';\n",
              "    })();\n",
              "  </script>\n",
              "</div>\n",
              "\n",
              "  <div id=\"id_766871a8-4b7c-40b6-b962-61f5a1ce1bbb\">\n",
              "    <style>\n",
              "      .colab-df-generate {\n",
              "        background-color: #E8F0FE;\n",
              "        border: none;\n",
              "        border-radius: 50%;\n",
              "        cursor: pointer;\n",
              "        display: none;\n",
              "        fill: #1967D2;\n",
              "        height: 32px;\n",
              "        padding: 0 0 0 0;\n",
              "        width: 32px;\n",
              "      }\n",
              "\n",
              "      .colab-df-generate:hover {\n",
              "        background-color: #E2EBFA;\n",
              "        box-shadow: 0px 1px 2px rgba(60, 64, 67, 0.3), 0px 1px 3px 1px rgba(60, 64, 67, 0.15);\n",
              "        fill: #174EA6;\n",
              "      }\n",
              "\n",
              "      [theme=dark] .colab-df-generate {\n",
              "        background-color: #3B4455;\n",
              "        fill: #D2E3FC;\n",
              "      }\n",
              "\n",
              "      [theme=dark] .colab-df-generate:hover {\n",
              "        background-color: #434B5C;\n",
              "        box-shadow: 0px 1px 3px 1px rgba(0, 0, 0, 0.15);\n",
              "        filter: drop-shadow(0px 1px 2px rgba(0, 0, 0, 0.3));\n",
              "        fill: #FFFFFF;\n",
              "      }\n",
              "    </style>\n",
              "    <button class=\"colab-df-generate\" onclick=\"generateWithVariable('filtered_merged_df')\"\n",
              "            title=\"Generate code using this dataframe.\"\n",
              "            style=\"display:none;\">\n",
              "\n",
              "  <svg xmlns=\"http://www.w3.org/2000/svg\" height=\"24px\"viewBox=\"0 0 24 24\"\n",
              "       width=\"24px\">\n",
              "    <path d=\"M7,19H8.4L18.45,9,17,7.55,7,17.6ZM5,21V16.75L18.45,3.32a2,2,0,0,1,2.83,0l1.4,1.43a1.91,1.91,0,0,1,.58,1.4,1.91,1.91,0,0,1-.58,1.4L9.25,21ZM18.45,9,17,7.55Zm-12,3A5.31,5.31,0,0,0,4.9,8.1,5.31,5.31,0,0,0,1,6.5,5.31,5.31,0,0,0,4.9,4.9,5.31,5.31,0,0,0,6.5,1,5.31,5.31,0,0,0,8.1,4.9,5.31,5.31,0,0,0,12,6.5,5.46,5.46,0,0,0,6.5,12Z\"/>\n",
              "  </svg>\n",
              "    </button>\n",
              "    <script>\n",
              "      (() => {\n",
              "      const buttonEl =\n",
              "        document.querySelector('#id_766871a8-4b7c-40b6-b962-61f5a1ce1bbb button.colab-df-generate');\n",
              "      buttonEl.style.display =\n",
              "        google.colab.kernel.accessAllowed ? 'block' : 'none';\n",
              "\n",
              "      buttonEl.onclick = () => {\n",
              "        google.colab.notebook.generateWithVariable('filtered_merged_df');\n",
              "      }\n",
              "      })();\n",
              "    </script>\n",
              "  </div>\n",
              "\n",
              "    </div>\n",
              "  </div>\n"
            ],
            "text/plain": [
              "       time_stamp  sensor_index           name   latitude  longitude  \\\n",
              "0      2022-04-01         87721        Garland  32.963880 -96.634650   \n",
              "1      2022-04-01         90785   HeathWeather  32.819980 -96.466545   \n",
              "2      2022-04-01        113708     UNT-GEO-56  33.259953 -97.257290   \n",
              "3      2022-04-01        127067     UNT-GEO-39  33.149710 -97.126010   \n",
              "4      2022-04-01         59903     UNT-GEO-32  33.112953 -97.121280   \n",
              "...           ...           ...            ...        ...        ...   \n",
              "39792  2024-03-29        113969     UNT-GEO-58  33.114075 -97.365974   \n",
              "39793  2024-03-29         99585      Aldersyde  32.921955 -97.305560   \n",
              "39794  2024-03-29        114119     UNT-GEO-44  33.238647 -97.109695   \n",
              "39795  2024-03-29        144032       LOCHWOOD  32.861404 -96.687240   \n",
              "39796  2024-03-29        142154  Starwashed Dr  32.456380 -97.006840   \n",
              "\n",
              "       humidity_a  temperature_a  pressure_a  pm2.5_atm_a  pm2.5_atm_b  ...  \\\n",
              "0          31.406         66.424     996.667        4.720        3.450  ...   \n",
              "1          39.826         61.796     998.508        3.981        3.353  ...   \n",
              "2          42.803         59.520     990.216        1.014        1.565  ...   \n",
              "3          38.254         62.729     995.100        0.373        0.606  ...   \n",
              "4          33.125         66.057     994.619        3.595        4.456  ...   \n",
              "...           ...            ...         ...          ...          ...  ...   \n",
              "39792      75.111         68.013     988.733        0.845     3298.304  ...   \n",
              "39793      72.486         73.772     989.039        2.805        4.284  ...   \n",
              "39794      46.908         72.577     992.503        0.796        1.034  ...   \n",
              "39795      49.159         72.571     996.867        5.734        5.654  ...   \n",
              "39796      38.746         79.286     988.089        0.937        1.552  ...   \n",
              "\n",
              "       WESF  WSF2  WSF5  WT01  WT02  WT03  WT04  WT05  WT06  WT08  \n",
              "0       0.0  11.2  13.9   0.0   0.0   0.0   0.0   0.0   0.0   0.0  \n",
              "1       0.0  11.2  13.9   0.0   0.0   0.0   0.0   0.0   0.0   0.0  \n",
              "2       0.0  11.2  13.9   0.0   0.0   0.0   0.0   0.0   0.0   0.0  \n",
              "3       0.0  11.2  13.9   0.0   0.0   0.0   0.0   0.0   0.0   0.0  \n",
              "4       0.0  11.2  13.9   0.0   0.0   0.0   0.0   0.0   0.0   0.0  \n",
              "...     ...   ...   ...   ...   ...   ...   ...   ...   ...   ...  \n",
              "39792   0.0  13.9  19.2   0.0   0.0   0.0   0.0   0.0   0.0   0.0  \n",
              "39793   0.0  13.9  19.2   0.0   0.0   0.0   0.0   0.0   0.0   0.0  \n",
              "39794   0.0  13.9  19.2   0.0   0.0   0.0   0.0   0.0   0.0   0.0  \n",
              "39795   0.0  13.9  19.2   0.0   0.0   0.0   0.0   0.0   0.0   0.0  \n",
              "39796   0.0  13.9  19.2   0.0   0.0   0.0   0.0   0.0   0.0   0.0  \n",
              "\n",
              "[39797 rows x 39 columns]"
            ]
          },
          "execution_count": 17,
          "metadata": {},
          "output_type": "execute_result"
        }
      ],
      "source": [
        "filtered_merged_df"
      ]
    },
    {
      "cell_type": "code",
      "execution_count": null,
      "metadata": {
        "id": "jYmNcqKxnz4t"
      },
      "outputs": [],
      "source": [
        "from scipy.interpolate import griddata\n",
        "import numpy as np\n",
        "import matplotlib.pyplot as plt\n",
        "\n",
        "# Function to convert latitude and longitude to Cartesian coordinates\n",
        "def lat_lon_to_cartesian(lat, lon, radius=6371.0):\n",
        "    x = radius * np.cos(lat) * np.cos(lon)\n",
        "    y = radius * np.cos(lat) * np.sin(lon)\n",
        "    z = radius * np.sin(lat)\n",
        "    return x, y, z\n",
        "\n",
        "# Function to create a spatial map for a given timestamp\n",
        "def create_spatial_map(data, timestamp, grid_x, grid_y):\n",
        "    subset = data[data['time_stamp'] == timestamp]\n",
        "    lat = np.radians(subset['latitude'].values)\n",
        "    lon = np.radians(subset['longitude'].values)\n",
        "    values = subset['pm2.5_atm_a'].values\n",
        "\n",
        "    # Convert latitude and longitude to Cartesian coordinates\n",
        "    cartesian_points = np.array([lat_lon_to_cartesian(lat_i, lon_i) for lat_i, lon_i in zip(lat, lon)])\n",
        "\n",
        "    # Ensure cartesian_points has the correct shape\n",
        "    cartesian_points = cartesian_points.reshape(-1, 3)\n",
        "\n",
        "    # Interpolate using griddata\n",
        "    grid_z = griddata(cartesian_points[:, :2], values, (grid_x, grid_y), method='cubic')\n",
        "\n",
        "    return grid_z\n",
        "\n",
        "# Example dataset ranges\n",
        "min_latitude = filtered_merged_df['latitude'].min()\n",
        "max_latitude = filtered_merged_df['latitude'].max()\n",
        "min_longitude = filtered_merged_df['longitude'].min()\n",
        "max_longitude = filtered_merged_df['longitude'].max()\n",
        "\n",
        "# Convert min and max latitude and longitude to radians\n",
        "min_lat_rad = np.radians(min_latitude)\n",
        "max_lat_rad = np.radians(max_latitude)\n",
        "min_lon_rad = np.radians(min_longitude)\n",
        "max_lon_rad = np.radians(max_longitude)\n",
        "\n",
        "# Convert the bounding coordinates to Cartesian coordinates\n",
        "min_x, min_y, _ = lat_lon_to_cartesian(min_lat_rad, min_lon_rad)\n",
        "max_x, max_y, _ = lat_lon_to_cartesian(max_lat_rad, max_lon_rad)\n",
        "\n",
        "# Define grid resolution (in Cartesian coordinates)\n",
        "x_resolution = (max_x - min_x) / 100\n",
        "y_resolution = (max_y - min_y) / 100\n",
        "\n",
        "# Create grid points in Cartesian coordinates\n",
        "grid_x, grid_y = np.meshgrid(np.arange(min_x, max_x, x_resolution), np.arange(min_y, max_y, y_resolution))\n",
        "\n",
        "# Generate spatial maps for all timestamps\n",
        "timestamps = filtered_merged_df['time_stamp'].unique()\n",
        "spatial_maps = [create_spatial_map(filtered_merged_df, ts, grid_x, grid_y) for ts in timestamps]\n",
        "spatial_maps = np.array(spatial_maps)\n"
      ]
    },
    {
      "cell_type": "code",
      "execution_count": null,
      "metadata": {
        "id": "GzL5_A_Hnz4u"
      },
      "outputs": [],
      "source": [
        "\n",
        "# Normalize the spatial maps\n",
        "spatial_maps = spatial_maps / np.nanmax(spatial_maps)\n",
        "\n",
        "# Handle potential NaNs in spatial maps\n",
        "spatial_maps = np.nan_to_num(spatial_maps)"
      ]
    },
    {
      "cell_type": "code",
      "execution_count": null,
      "metadata": {
        "colab": {
          "base_uri": "https://localhost:8080/"
        },
        "id": "RvJQJELxnz4u",
        "outputId": "3d1ffa81-f9d3-4895-96df-e234dc15c7bd"
      },
      "outputs": [
        {
          "data": {
            "text/plain": [
              "(100, 101)"
            ]
          },
          "execution_count": 20,
          "metadata": {},
          "output_type": "execute_result"
        }
      ],
      "source": [
        "spatial_maps[0].shape"
      ]
    },
    {
      "cell_type": "code",
      "execution_count": null,
      "metadata": {
        "colab": {
          "base_uri": "https://localhost:8080/",
          "height": 472
        },
        "id": "pLQpl94unz4u",
        "outputId": "f6d86e77-19cb-455e-cba6-023f8f96291f"
      },
      "outputs": [
        {
          "data": {
            "image/png": "[encoded data removed]",
            "text/plain": [
              "<Figure size 640x480 with 2 Axes>"
            ]
          },
          "metadata": {},
          "output_type": "display_data"
        }
      ],
      "source": [
        "import matplotlib.pyplot as plt\n",
        "plt.imshow(spatial_maps[10], origin='lower', cmap='viridis')\n",
        "plt.colorbar(label='PM2.5 concentration')\n",
        "plt.title('Spatial Map - PM2.5 Concentration (Cubic Spline Interpolation)')\n",
        "plt.xlabel('Longitude')\n",
        "plt.ylabel('Latitude')\n",
        "plt.show()\n"
      ]
    },
    {
      "cell_type": "code",
      "execution_count": null,
      "metadata": {
        "colab": {
          "base_uri": "https://localhost:8080/"
        },
        "id": "lhmhpR82nz4v",
        "outputId": "d6f5c405-2a09-49ff-b343-73c3099b5789"
      },
      "outputs": [
        {
          "data": {
            "text/plain": [
              "(729, 100, 101)"
            ]
          },
          "execution_count": 22,
          "metadata": {},
          "output_type": "execute_result"
        }
      ],
      "source": [
        "spatial_maps.shape"
      ]
    },
    {
      "cell_type": "code",
      "execution_count": null,
      "metadata": {
        "colab": {
          "base_uri": "https://localhost:8080/"
        },
        "id": "5Wz2XNlhnz4v",
        "outputId": "70c6e4df-939e-4ab6-9217-7fdf1144bc15"
      },
      "outputs": [
        {
          "data": {
            "text/plain": [
              "numpy.ndarray"
            ]
          },
          "execution_count": 23,
          "metadata": {},
          "output_type": "execute_result"
        }
      ],
      "source": [
        "type(spatial_maps)"
      ]
    },
    {
      "cell_type": "code",
      "execution_count": null,
      "metadata": {
        "colab": {
          "base_uri": "https://localhost:8080/"
        },
        "id": "t77gYst-nz4v",
        "outputId": "9502c771-5bda-487b-ca76-90f8fa4ab6e8"
      },
      "outputs": [
        {
          "data": {
            "text/plain": [
              "729"
            ]
          },
          "execution_count": 24,
          "metadata": {},
          "output_type": "execute_result"
        }
      ],
      "source": [
        "len(spatial_maps)"
      ]
    },
    {
      "cell_type": "code",
      "execution_count": null,
      "metadata": {
        "id": "_LWm1J1jnz4w"
      },
      "outputs": [],
      "source": [
        "import tensorflow as tf\n",
        "from tensorflow.keras.models import Sequential\n",
        "from tensorflow.keras.layers import Conv3D, MaxPooling3D, Flatten, Dense\n",
        "from sklearn.model_selection import train_test_split"
      ]
    },
    {
      "cell_type": "code",
      "execution_count": null,
      "metadata": {
        "id": "mV470eh9nz4w"
      },
      "outputs": [],
      "source": [
        "time_steps = 10\n",
        "X = []\n",
        "y = []\n",
        "\n",
        "for i in range(len(spatial_maps) - time_steps):\n",
        "    X.append(spatial_maps[i:i + time_steps])\n",
        "    y.append(spatial_maps[i + time_steps])\n",
        "\n",
        "X = np.array(X)\n",
        "y = np.array(y)"
      ]
    },
    {
      "cell_type": "code",
      "execution_count": null,
      "metadata": {
        "colab": {
          "base_uri": "https://localhost:8080/"
        },
        "id": "WKm-94TPnz4x",
        "outputId": "66a04771-073a-452e-8ba9-28beceae1054"
      },
      "outputs": [
        {
          "data": {
            "text/plain": [
              "(719, 10, 100, 101)"
            ]
          },
          "execution_count": 27,
          "metadata": {},
          "output_type": "execute_result"
        }
      ],
      "source": [
        "X.shape"
      ]
    },
    {
      "cell_type": "code",
      "execution_count": null,
      "metadata": {
        "id": "YTg6hNBznz4x"
      },
      "outputs": [],
      "source": [
        "X = X[..., np.newaxis]\n",
        "y = y[..., np.newaxis]\n",
        "\n",
        "y = y.reshape(y.shape[0], -1)\n",
        "\n",
        "# Train-test split\n",
        "X_train, X_test, y_train, y_test = train_test_split(X, y, test_size=0.2, random_state=42)\n"
      ]
    },
    {
      "cell_type": "code",
      "execution_count": null,
      "metadata": {
        "colab": {
          "base_uri": "https://localhost:8080/"
        },
        "id": "VxoEDJJGnz4x",
        "outputId": "3f6652ca-19d4-4983-af7f-fa23f5303f78"
      },
      "outputs": [
        {
          "data": {
            "text/plain": [
              "(575, 10, 100, 101, 1)"
            ]
          },
          "execution_count": 29,
          "metadata": {},
          "output_type": "execute_result"
        }
      ],
      "source": [
        "X_train.shape"
      ]
    },
    {
      "cell_type": "code",
      "execution_count": null,
      "metadata": {
        "id": "Vy3446aTnz4y"
      },
      "outputs": [],
      "source": [
        "model = Sequential()\n",
        "model.add(Conv3D(filters=32, kernel_size=(3, 3, 3), activation='relu', input_shape=(time_steps, 100, 101, 1), padding='same'))\n",
        "model.add(MaxPooling3D(pool_size=(2, 2, 2)))\n",
        "model.add(Conv3D(filters=64, kernel_size=(3, 3, 3), activation='relu', padding='same'))\n",
        "model.add(MaxPooling3D(pool_size=(2, 2, 2)))\n",
        "model.add(Flatten())\n",
        "model.add(Dense(128, activation='relu'))\n",
        "# Change the output layer to match the shape of your target variable\n",
        "model.add(Dense(100*101*1, activation='linear')) # Change this line"
      ]
    },
    {
      "cell_type": "code",
      "execution_count": null,
      "metadata": {
        "colab": {
          "base_uri": "https://localhost:8080/"
        },
        "id": "q9P2tunXnz4y",
        "outputId": "e67ade74-1695-492d-bb61-72492df5115b"
      },
      "outputs": [
        {
          "name": "stdout",
          "output_type": "stream",
          "text": [
            "Model: \"sequential\"\n",
            "_________________________________________________________________\n",
            " Layer (type)                Output Shape              Param #   \n",
            "=================================================================\n",
            " conv3d (Conv3D)             (None, 10, 100, 101, 32   896       \n",
            "                             )                                   \n",
            "                                                                 \n",
            " max_pooling3d (MaxPooling3  (None, 5, 50, 50, 32)     0         \n",
            " D)                                                              \n",
            "                                                                 \n",
            " conv3d_1 (Conv3D)           (None, 5, 50, 50, 64)     55360     \n",
            "                                                                 \n",
            " max_pooling3d_1 (MaxPoolin  (None, 2, 25, 25, 64)     0         \n",
            " g3D)                                                            \n",
            "                                                                 \n",
            " flatten (Flatten)           (None, 80000)             0         \n",
            "                                                                 \n",
            " dense (Dense)               (None, 128)               10240128  \n",
            "                                                                 \n",
            " dense_1 (Dense)             (None, 10100)             1302900   \n",
            "                                                                 \n",
            "=================================================================\n",
            "Total params: 11599284 (44.25 MB)\n",
            "Trainable params: 11599284 (44.25 MB)\n",
            "Non-trainable params: 0 (0.00 Byte)\n",
            "_________________________________________________________________\n"
          ]
        }
      ],
      "source": [
        "# Compile the model\n",
        "model.compile(optimizer='adam', loss='mean_squared_error')\n",
        "\n",
        "# Print the model summary\n",
        "model.summary()"
      ]
    },
    {
      "cell_type": "code",
      "execution_count": null,
      "metadata": {
        "colab": {
          "base_uri": "https://localhost:8080/"
        },
        "id": "ifiCCliLnz4z",
        "outputId": "334b32de-cf78-4d7e-8e72-68e5cd9cb97e"
      },
      "outputs": [
        {
          "name": "stdout",
          "output_type": "stream",
          "text": [
            "Epoch 1/10\n",
            "15/15 [==============================] - 231s 15s/step - loss: 0.0072 - val_loss: 0.0022\n",
            "Epoch 2/10\n",
            "15/15 [==============================] - 232s 16s/step - loss: 0.0018 - val_loss: 0.0016\n",
            "Epoch 3/10\n",
            "15/15 [==============================] - 228s 15s/step - loss: 0.0013 - val_loss: 0.0012\n",
            "Epoch 4/10\n",
            "15/15 [==============================] - 227s 15s/step - loss: 8.6924e-04 - val_loss: 7.7821e-04\n",
            "Epoch 5/10\n",
            "15/15 [==============================] - 224s 15s/step - loss: 5.3954e-04 - val_loss: 5.1648e-04\n",
            "Epoch 6/10\n",
            "15/15 [==============================] - 219s 15s/step - loss: 3.7095e-04 - val_loss: 4.4729e-04\n",
            "Epoch 7/10\n",
            "15/15 [==============================] - 226s 15s/step - loss: 3.2405e-04 - val_loss: 3.9556e-04\n",
            "Epoch 8/10\n",
            "15/15 [==============================] - 220s 15s/step - loss: 2.6421e-04 - val_loss: 3.4102e-04\n",
            "Epoch 9/10\n",
            "15/15 [==============================] - 218s 15s/step - loss: 2.2962e-04 - val_loss: 3.2099e-04\n",
            "Epoch 10/10\n",
            "15/15 [==============================] - 219s 15s/step - loss: 2.2597e-04 - val_loss: 3.3020e-04\n",
            "5/5 [==============================] - 16s 3s/step - loss: 3.0533e-04\n",
            "Test loss: 0.00030533046810887754\n"
          ]
        }
      ],
      "source": [
        "model.fit(X_train, y_train, epochs=10, batch_size=32, validation_split=0.2)\n",
        "\n",
        "# Evaluate the model\n",
        "loss = model.evaluate(X_test, y_test)\n",
        "print(f\"Test loss: {loss}\")"
      ]
    },
    {
      "cell_type": "code",
      "execution_count": null,
      "metadata": {
        "colab": {
          "base_uri": "https://localhost:8080/"
        },
        "id": "lDwVgRCbanYv",
        "outputId": "a7a0682a-6426-4713-95c6-9781ad3e9729"
      },
      "outputs": [
        {
          "name": "stdout",
          "output_type": "stream",
          "text": [
            "Model: \"sequential\"\n",
            "_________________________________________________________________\n",
            " Layer (type)                Output Shape              Param #   \n",
            "=================================================================\n",
            " conv3d (Conv3D)             (None, 10, 100, 101, 32   896       \n",
            "                             )                                   \n",
            "                                                                 \n",
            " max_pooling3d (MaxPooling3  (None, 5, 50, 50, 32)     0         \n",
            " D)                                                              \n",
            "                                                                 \n",
            " conv3d_1 (Conv3D)           (None, 5, 50, 50, 64)     55360     \n",
            "                                                                 \n",
            " max_pooling3d_1 (MaxPoolin  (None, 2, 25, 25, 64)     0         \n",
            " g3D)                                                            \n",
            "                                                                 \n",
            " flatten (Flatten)           (None, 80000)             0         \n",
            "                                                                 \n",
            " dense (Dense)               (None, 128)               10240128  \n",
            "                                                                 \n",
            " dense_1 (Dense)             (None, 10100)             1302900   \n",
            "                                                                 \n",
            "=================================================================\n",
            "Total params: 11599284 (44.25 MB)\n",
            "Trainable params: 11599284 (44.25 MB)\n",
            "Non-trainable params: 0 (0.00 Byte)\n",
            "_________________________________________________________________\n"
          ]
        }
      ],
      "source": [
        "model.summary()"
      ]
    },
    {
      "cell_type": "code",
      "execution_count": null,
      "metadata": {
        "id": "z3WNAl3DbvNK"
      },
      "outputs": [],
      "source": [
        "model.save('3dcnn_model.h5')"
      ]
    },
    {
      "cell_type": "code",
      "execution_count": null,
      "metadata": {
        "id": "Px7BNaqGfVHi"
      },
      "outputs": [],
      "source": [
        "from sklearn.metrics import mean_squared_error, mean_absolute_error\n",
        "# Make predictions\n",
        "y_pred = model.predict(X_test)\n",
        "\n",
        "# Reshape predictions to the original 2D shape for visualization\n",
        "y_pred_reshaped = y_pred.reshape(-1, 100, 101)\n",
        "y_test_reshaped = y_test.reshape(-1, 100, 101)\n",
        "\n",
        "# Calculate additional performance metrics\n",
        "mse = mean_squared_error(y_test, y_pred)\n",
        "rmse = np.sqrt(mse)\n",
        "mae = mean_absolute_error(y_test, y_pred)\n",
        "\n",
        "print(f'Mean Squared Error: {mse}')\n",
        "print(f'Root Mean Squared Error: {rmse}')\n",
        "print(f'Mean Absolute Error: {mae}')"
      ]
    },
    {
      "cell_type": "code",
      "execution_count": null,
      "metadata": {
        "id": "yUiOx3YYfbP3"
      },
      "outputs": [],
      "source": [
        "import matplotlib.pyplot as plt\n",
        "import seaborn as sns\n",
        "num_samples = 3\n",
        "for i in range(num_samples):\n",
        "    plt.figure(figsize=(10, 4))\n",
        "\n",
        "    plt.subplot(1, 2, 1)\n",
        "    plt.title(f'True PM2.5 Levels (Sample {i})')\n",
        "    sns.heatmap(y_test_reshaped[i], cmap='viridis', cbar=True)\n",
        "\n",
        "    plt.subplot(1, 2, 2)\n",
        "    plt.title(f'Predicted PM2.5 Levels (Sample {i})')\n",
        "    sns.heatmap(y_pred_reshaped[i], cmap='viridis', cbar=True)\n",
        "\n",
        "    plt.show()"
      ]
    }
  ],
  "metadata": {
    "colab": {
      "provenance": []
    },
    "kernelspec": {
      "display_name": "pyml",
      "language": "python",
      "name": "python3"
    },
    "language_info": {
      "codemirror_mode": {
        "name": "ipython",
        "version": 3
      },
      "file_extension": ".py",
      "mimetype": "text/x-python",
      "name": "python",
      "nbconvert_exporter": "python",
      "pygments_lexer": "ipython3",
      "version": "3.9.7"
    }
  },
  "nbformat": 4,
  "nbformat_minor": 0
}
