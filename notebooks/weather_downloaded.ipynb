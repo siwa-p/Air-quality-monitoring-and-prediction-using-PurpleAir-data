{
 "cells": [
  {
   "cell_type": "code",
   "execution_count": 1,
   "metadata": {},
   "outputs": [],
   "source": [
    "import pandas as pd"
   ]
  },
  {
   "cell_type": "code",
   "execution_count": 3,
   "metadata": {},
   "outputs": [],
   "source": [
    "dallas = pd.read_csv('../datasets/Dallas_TX_2022-04-01_to_2024-04-01.csv')"
   ]
  },
  {
   "cell_type": "code",
   "execution_count": 4,
   "metadata": {},
   "outputs": [
    {
     "data": {
      "text/html": [
       "<div>\n",
       "<style scoped>\n",
       "    .dataframe tbody tr th:only-of-type {\n",
       "        vertical-align: middle;\n",
       "    }\n",
       "\n",
       "    .dataframe tbody tr th {\n",
       "        vertical-align: top;\n",
       "    }\n",
       "\n",
       "    .dataframe thead th {\n",
       "        text-align: right;\n",
       "    }\n",
       "</style>\n",
       "<table border=\"1\" class=\"dataframe\">\n",
       "  <thead>\n",
       "    <tr style=\"text-align: right;\">\n",
       "      <th></th>\n",
       "      <th>name</th>\n",
       "      <th>latitude</th>\n",
       "      <th>longitude</th>\n",
       "      <th>stations</th>\n",
       "      <th>source</th>\n",
       "    </tr>\n",
       "  </thead>\n",
       "  <tbody>\n",
       "    <tr>\n",
       "      <th>0</th>\n",
       "      <td>Dallas, TX</td>\n",
       "      <td>32.778</td>\n",
       "      <td>-96.795</td>\n",
       "      <td>F8578,KDAL,72259903971,KRBD,72258013960,722143...</td>\n",
       "      <td>obs</td>\n",
       "    </tr>\n",
       "    <tr>\n",
       "      <th>1</th>\n",
       "      <td>Dallas, TX</td>\n",
       "      <td>32.778</td>\n",
       "      <td>-96.795</td>\n",
       "      <td>F8578,KDAL,72259903971,KRBD,72258013960,722143...</td>\n",
       "      <td>obs</td>\n",
       "    </tr>\n",
       "    <tr>\n",
       "      <th>2</th>\n",
       "      <td>Dallas, TX</td>\n",
       "      <td>32.778</td>\n",
       "      <td>-96.795</td>\n",
       "      <td>F8578,KDAL,72259903971,KRBD,72258013960,722143...</td>\n",
       "      <td>obs</td>\n",
       "    </tr>\n",
       "    <tr>\n",
       "      <th>3</th>\n",
       "      <td>Dallas, TX</td>\n",
       "      <td>32.778</td>\n",
       "      <td>-96.795</td>\n",
       "      <td>F8578,D4127,KDAL,72259903971,KRBD,72258013960,...</td>\n",
       "      <td>obs</td>\n",
       "    </tr>\n",
       "    <tr>\n",
       "      <th>4</th>\n",
       "      <td>Dallas, TX</td>\n",
       "      <td>32.778</td>\n",
       "      <td>-96.795</td>\n",
       "      <td>F8578,KLNC,KDAL,72259903971,KRBD,72258013960,E...</td>\n",
       "      <td>obs</td>\n",
       "    </tr>\n",
       "    <tr>\n",
       "      <th>...</th>\n",
       "      <td>...</td>\n",
       "      <td>...</td>\n",
       "      <td>...</td>\n",
       "      <td>...</td>\n",
       "      <td>...</td>\n",
       "    </tr>\n",
       "    <tr>\n",
       "      <th>727</th>\n",
       "      <td>Dallas, TX</td>\n",
       "      <td>32.778</td>\n",
       "      <td>-96.795</td>\n",
       "      <td>F8578,KDAL,72259903971,KRBD,72258013960,722143...</td>\n",
       "      <td>obs</td>\n",
       "    </tr>\n",
       "    <tr>\n",
       "      <th>728</th>\n",
       "      <td>Dallas, TX</td>\n",
       "      <td>32.778</td>\n",
       "      <td>-96.795</td>\n",
       "      <td>F8578,KDAL,72259903971,KRBD,72258013960,722143...</td>\n",
       "      <td>obs</td>\n",
       "    </tr>\n",
       "    <tr>\n",
       "      <th>729</th>\n",
       "      <td>Dallas, TX</td>\n",
       "      <td>32.778</td>\n",
       "      <td>-96.795</td>\n",
       "      <td>F8578,KLNC,KDAL,72259903971,KRBD,72258013960,7...</td>\n",
       "      <td>obs</td>\n",
       "    </tr>\n",
       "    <tr>\n",
       "      <th>730</th>\n",
       "      <td>Dallas, TX</td>\n",
       "      <td>32.778</td>\n",
       "      <td>-96.795</td>\n",
       "      <td>F8578,KLNC,KDAL,72259903971,KRBD,72258013960,7...</td>\n",
       "      <td>obs</td>\n",
       "    </tr>\n",
       "    <tr>\n",
       "      <th>731</th>\n",
       "      <td>Dallas, TX</td>\n",
       "      <td>32.778</td>\n",
       "      <td>-96.795</td>\n",
       "      <td>F8578,KDAL,72259903971,KRBD,72258013960,722143...</td>\n",
       "      <td>obs</td>\n",
       "    </tr>\n",
       "  </tbody>\n",
       "</table>\n",
       "<p>732 rows × 5 columns</p>\n",
       "</div>"
      ],
      "text/plain": [
       "           name  latitude  longitude  \\\n",
       "0    Dallas, TX    32.778    -96.795   \n",
       "1    Dallas, TX    32.778    -96.795   \n",
       "2    Dallas, TX    32.778    -96.795   \n",
       "3    Dallas, TX    32.778    -96.795   \n",
       "4    Dallas, TX    32.778    -96.795   \n",
       "..          ...       ...        ...   \n",
       "727  Dallas, TX    32.778    -96.795   \n",
       "728  Dallas, TX    32.778    -96.795   \n",
       "729  Dallas, TX    32.778    -96.795   \n",
       "730  Dallas, TX    32.778    -96.795   \n",
       "731  Dallas, TX    32.778    -96.795   \n",
       "\n",
       "                                              stations source  \n",
       "0    F8578,KDAL,72259903971,KRBD,72258013960,722143...    obs  \n",
       "1    F8578,KDAL,72259903971,KRBD,72258013960,722143...    obs  \n",
       "2    F8578,KDAL,72259903971,KRBD,72258013960,722143...    obs  \n",
       "3    F8578,D4127,KDAL,72259903971,KRBD,72258013960,...    obs  \n",
       "4    F8578,KLNC,KDAL,72259903971,KRBD,72258013960,E...    obs  \n",
       "..                                                 ...    ...  \n",
       "727  F8578,KDAL,72259903971,KRBD,72258013960,722143...    obs  \n",
       "728  F8578,KDAL,72259903971,KRBD,72258013960,722143...    obs  \n",
       "729  F8578,KLNC,KDAL,72259903971,KRBD,72258013960,7...    obs  \n",
       "730  F8578,KLNC,KDAL,72259903971,KRBD,72258013960,7...    obs  \n",
       "731  F8578,KDAL,72259903971,KRBD,72258013960,722143...    obs  \n",
       "\n",
       "[732 rows x 5 columns]"
      ]
     },
     "execution_count": 4,
     "metadata": {},
     "output_type": "execute_result"
    }
   ],
   "source": [
    "dallas"
   ]
  },
  {
   "cell_type": "code",
   "execution_count": 5,
   "metadata": {},
   "outputs": [
    {
     "data": {
      "text/plain": [
       "array([32.778])"
      ]
     },
     "execution_count": 5,
     "metadata": {},
     "output_type": "execute_result"
    }
   ],
   "source": [
    "dallas['latitude'].unique()"
   ]
  },
  {
   "cell_type": "code",
   "execution_count": null,
   "metadata": {},
   "outputs": [],
   "source": []
  },
  {
   "cell_type": "code",
   "execution_count": null,
   "metadata": {},
   "outputs": [],
   "source": []
  }
 ],
 "metadata": {
  "kernelspec": {
   "display_name": "pyml",
   "language": "python",
   "name": "python3"
  },
  "language_info": {
   "codemirror_mode": {
    "name": "ipython",
    "version": 3
   },
   "file_extension": ".py",
   "mimetype": "text/x-python",
   "name": "python",
   "nbconvert_exporter": "python",
   "pygments_lexer": "ipython3",
   "version": "3.9.7"
  }
 },
 "nbformat": 4,
 "nbformat_minor": 2
}
